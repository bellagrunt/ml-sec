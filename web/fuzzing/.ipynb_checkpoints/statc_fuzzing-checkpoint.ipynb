{
 "cells": [
  {
   "cell_type": "code",
   "execution_count": 1,
   "metadata": {},
   "outputs": [],
   "source": [
    "# load_ext nb_black"
   ]
  },
  {
   "cell_type": "code",
   "execution_count": 9,
   "metadata": {},
   "outputs": [],
   "source": [
    "import string\n",
    "import random\n",
    "\n",
    "\n",
    "def toy_fuzzer(\n",
    "    maximum_length=150,\n",
    "    include_punctuation=True,\n",
    "    include_letters=True,\n",
    "    include_digits=True,\n",
    "):\n",
    "    \"\"\"Basic fuzzer.\"\"\"\n",
    "    vocabulary = (\n",
    "        include_punctuation * string.punctuation\n",
    "        + include_letters * string.ascii_letters\n",
    "        + include_digits * string.digits\n",
    "    )\n",
    "    output_length = random.randrange(0, maximum_length + 1)\n",
    "    out = [random.choice(vocabulary) for x in range(0, output_length)]\n",
    "    return \"\".join(out)\n"
   ]
  },
  {
   "cell_type": "code",
   "execution_count": 13,
   "metadata": {},
   "outputs": [
    {
     "name": "stdout",
     "output_type": "stream",
     "text": [
      "Run 1:\n",
      "my^m<H9llL%hhAMk1wF*UertYcgV\n",
      "\n",
      "Run 2:\n",
      "D7xoO~a:J&\"Br$+%<5kmjVh9]<m>K){NZ[9XKkH:7^zNb}XXH5.-b|iG`!?'Y#EzrS<}{Tqae{uUe/>>|$<Xi~u'%4,DAr:9wC=AV`Zm^P31{zh-78Ty7C@qv\n",
      "\n",
      "Run 3:\n",
      "XvIwd]qMYLvS\n",
      "\n",
      "Run 4:\n",
      "2@^1\n",
      "\n",
      "Run 5:\n",
      "T6_N,6OG0=\"wI~@~ShN2\"yh>8R>BXGAJE';I]YY`%eYdXXBp!sb\"&,V9mU+C\n",
      "\n"
     ]
    }
   ],
   "source": [
    "N = 5\n",
    "for i in range(N):\n",
    "    print(\"Run \" + str(i + 1) + \":\")\n",
    "    print(toy_fuzzer())\n",
    "    print()"
   ]
  },
  {
   "cell_type": "code",
   "execution_count": 14,
   "metadata": {},
   "outputs": [],
   "source": [
    "def cgi_decode(input):\n",
    "    \"\"\"Decodes the CGI-encoded string \"input\":\n",
    "       - Replaces \"+\" by \" \".\n",
    "       - Replaces \"%xx\" by the character with hex number xx.\n",
    "       Returns the decoded string.  Raises `ValueError` for invalid inputs.\n",
    "       \"\"\"\n",
    "    output = \"\"\n",
    "    i = 0\n",
    "    while i < len(input):\n",
    "        current_char = input[i]\n",
    "        if current_char == \"+\":\n",
    "            output += \" \"\n",
    "        elif current_char == \"%\":\n",
    "            digit_high, digit_low = input[i + 1], input[i + 2]\n",
    "            i += 2\n",
    "            try:\n",
    "                v = int(digit_high, 16) * 16 + int(digit_low, 16)\n",
    "                output += chr(v)\n",
    "            except:\n",
    "                raise ValueError(\"Invalid input\")\n",
    "        else:\n",
    "            output += current_char\n",
    "        i += 1\n",
    "    return output"
   ]
  },
  {
   "cell_type": "code",
   "execution_count": 16,
   "metadata": {},
   "outputs": [],
   "source": [
    "def python_gotcha(x):\n",
    "    value = 42\n",
    "    if x < value:\n",
    "        value += x\n",
    "    elif x > value:\n",
    "        value = 1\n",
    "    else:\n",
    "        valuе = 23\n",
    "    print(value)"
   ]
  },
  {
   "cell_type": "code",
   "execution_count": 17,
   "metadata": {},
   "outputs": [
    {
     "name": "stdout",
     "output_type": "stream",
     "text": [
      "42\n"
     ]
    }
   ],
   "source": [
    "python_gotcha(42)"
   ]
  },
  {
   "cell_type": "code",
   "execution_count": 19,
   "metadata": {},
   "outputs": [],
   "source": [
    "def line_tracer(frame, event, arg):\n",
    "    \"\"\"Traces the collection of lines executed by a function.\"\"\"\n",
    "    if event == \"line\":\n",
    "        lineno = frame.f_lineno\n",
    "        global coverage\n",
    "        coverage.add(lineno)\n",
    "    return line_tracer"
   ]
  },
  {
   "cell_type": "code",
   "execution_count": 20,
   "metadata": {},
   "outputs": [],
   "source": [
    "import sys\n",
    "\n",
    "\n",
    "def record_coverage(function, s):\n",
    "    \"\"\"Record the set of lines covered when function calls s.\"\"\"\n",
    "    global coverage\n",
    "    coverage = set([])\n",
    "    sys.settrace(line_tracer)\n",
    "    function(s)\n",
    "    sys.settrace(None)\n",
    "    coverage = frozenset(coverage)\n",
    "    return coverage"
   ]
  },
  {
   "cell_type": "code",
   "execution_count": 21,
   "metadata": {},
   "outputs": [
    {
     "data": {
      "text/plain": [
       "frozenset({7, 8, 9, 10, 11, 12, 13, 22, 23, 24})"
      ]
     },
     "execution_count": 21,
     "metadata": {},
     "output_type": "execute_result"
    }
   ],
   "source": [
    "record_coverage(cgi_decode, \"cgi+encoding\")\n"
   ]
  },
  {
   "cell_type": "code",
   "execution_count": null,
   "metadata": {},
   "outputs": [],
   "source": [
    "test"
   ]
  }
 ],
 "metadata": {
  "kernelspec": {
   "display_name": "Python 3",
   "language": "python",
   "name": "python3"
  },
  "language_info": {
   "codemirror_mode": {
    "name": "ipython",
    "version": 3
   },
   "file_extension": ".py",
   "mimetype": "text/x-python",
   "name": "python",
   "nbconvert_exporter": "python",
   "pygments_lexer": "ipython3",
   "version": "3.7.3"
  }
 },
 "nbformat": 4,
 "nbformat_minor": 4
}
