{
 "cells": [
  {
   "cell_type": "code",
   "execution_count": 22,
   "metadata": {},
   "outputs": [],
   "source": [
    "# load_ext nb_black\n",
    "import string\n",
    "import random"
   ]
  },
  {
   "cell_type": "code",
   "execution_count": 23,
   "metadata": {},
   "outputs": [],
   "source": [
    "def toy_fuzzer(\n",
    "    maximum_length=150,\n",
    "    include_punctuation=True,\n",
    "    include_letters=True,\n",
    "    include_digits=True,\n",
    "):\n",
    "    \"\"\"Basic fuzzer.\"\"\"\n",
    "    vocabulary = (\n",
    "        include_punctuation * string.punctuation\n",
    "        + include_letters * string.ascii_letters\n",
    "        + include_digits * string.digits\n",
    "    )\n",
    "    output_length = random.randrange(0, maximum_length + 1)\n",
    "    out = [random.choice(vocabulary) for x in range(0, output_length)]\n",
    "    return \"\".join(out)\n"
   ]
  },
  {
   "cell_type": "code",
   "execution_count": 24,
   "metadata": {},
   "outputs": [
    {
     "name": "stdout",
     "output_type": "stream",
     "text": [
      "Run 1:\n",
      "OZ3*->Ho|`kS|w`N/;8brQ}lxbjK`KDn)}\n",
      "\n",
      "Run 2:\n",
      "0kTY(5gxbQ6wKVY;fn5;;wlKKU&=Ib?X@q3^l*V?vEz%1T_3-KVu4K(3/w/>T5\\f-#askPP.gl8Wm4U19f<-nD:6M@X>Xq+%ghQ=1|3KIyq9~Fu7I|Cd,C|+q4$`<0r<0\n",
      "\n",
      "Run 3:\n",
      "'+5C1gnu~)[s94t79c]u)(Y;I^^mJ&m_PA~E)7#S\"78t]U0+&#\\&)fOb]\"+xv=]s|@Mnsq!zR)RK&b!Mjm,7x/xywt},04+8ydIU=~'3-N784on:5Iy\n",
      "\n",
      "Run 4:\n",
      "8k\"gJkmtI.(xc_'`,Lh1<GCG=C>rbJkNmH_Z{`\\zlf{OEnnt~.fS~UYX<qp}6^1mH]I>UElq2F6a8n[5S'~cF(\\$KJe3EjhUR=7w!.H\n",
      "\n",
      "Run 5:\n",
      "n8!Ys8XQ^RP!)z?~2sLv9eOrA87P\\1NB_`2wP2/aM|FBenzGeZ^Q\\|i8Nqqk2?\\d]HN[/csX%dQE'Mll(a~'P+,keV81V^1#AkO}>q\"YmvS^+0!5:LGos.qE<hr-i2PU\n",
      "\n"
     ]
    }
   ],
   "source": [
    "N = 5\n",
    "for i in range(N):\n",
    "    print(\"Run \" + str(i + 1) + \":\")\n",
    "    print(toy_fuzzer())\n",
    "    print()"
   ]
  },
  {
   "cell_type": "code",
   "execution_count": 25,
   "metadata": {},
   "outputs": [],
   "source": [
    "def cgi_decode(input):\n",
    "    \"\"\"Decodes the CGI-encoded string \"input\":\n",
    "       - Replaces \"+\" by \" \".\n",
    "       - Replaces \"%xx\" by the character with hex number xx.\n",
    "       Returns the decoded string.  Raises `ValueError` for invalid inputs.\n",
    "       \"\"\"\n",
    "    output = \"\"\n",
    "    i = 0\n",
    "    while i < len(input):\n",
    "        current_char = input[i]\n",
    "        if current_char == \"+\":\n",
    "            output += \" \"\n",
    "        elif current_char == \"%\":\n",
    "            digit_high, digit_low = input[i + 1], input[i + 2]\n",
    "            i += 2\n",
    "            try:\n",
    "                v = int(digit_high, 16) * 16 + int(digit_low, 16)\n",
    "                output += chr(v)\n",
    "            except:\n",
    "                raise ValueError(\"Invalid input\")\n",
    "        else:\n",
    "            output += current_char\n",
    "        i += 1\n",
    "    return output"
   ]
  },
  {
   "cell_type": "code",
   "execution_count": 26,
   "metadata": {},
   "outputs": [],
   "source": [
    "def python_gotcha(x):\n",
    "    value = 42\n",
    "    if x < value:\n",
    "        value += x\n",
    "    elif x > value:\n",
    "        value = 1\n",
    "    else:\n",
    "        valuе = 23\n",
    "    print(value)"
   ]
  },
  {
   "cell_type": "code",
   "execution_count": 27,
   "metadata": {},
   "outputs": [
    {
     "name": "stdout",
     "output_type": "stream",
     "text": [
      "42\n"
     ]
    }
   ],
   "source": [
    "python_gotcha(42)"
   ]
  },
  {
   "cell_type": "code",
   "execution_count": 28,
   "metadata": {},
   "outputs": [],
   "source": [
    "def line_tracer(frame, event, arg):\n",
    "    \"\"\"Traces the collection of lines executed by a function.\"\"\"\n",
    "    if event == \"line\":\n",
    "        lineno = frame.f_lineno\n",
    "        global coverage\n",
    "        coverage.add(lineno)\n",
    "    return line_tracer"
   ]
  },
  {
   "cell_type": "code",
   "execution_count": 29,
   "metadata": {},
   "outputs": [],
   "source": [
    "import sys\n",
    "\n",
    "\n",
    "def record_coverage(function, s):\n",
    "    \"\"\"Record the set of lines covered when function calls s.\"\"\"\n",
    "    global coverage\n",
    "    coverage = set([])\n",
    "    sys.settrace(line_tracer)\n",
    "    function(s)\n",
    "    sys.settrace(None)\n",
    "    coverage = frozenset(coverage)\n",
    "    return coverage"
   ]
  },
  {
   "cell_type": "code",
   "execution_count": 30,
   "metadata": {},
   "outputs": [
    {
     "data": {
      "text/plain": [
       "frozenset({7, 8, 9, 10, 11, 12, 13, 22, 23, 24})"
      ]
     },
     "execution_count": 30,
     "metadata": {},
     "output_type": "execute_result"
    }
   ],
   "source": [
    "record_coverage(cgi_decode, \"cgi+encoding\")\n"
   ]
  },
  {
   "cell_type": "code",
   "execution_count": 31,
   "metadata": {},
   "outputs": [],
   "source": [
    "import inspect"
   ]
  },
  {
   "cell_type": "code",
   "execution_count": null,
   "metadata": {},
   "outputs": [],
   "source": []
  }
 ],
 "metadata": {
  "kernelspec": {
   "display_name": "Python 3",
   "language": "python",
   "name": "python3"
  },
  "language_info": {
   "codemirror_mode": {
    "name": "ipython",
    "version": 3
   },
   "file_extension": ".py",
   "mimetype": "text/x-python",
   "name": "python",
   "nbconvert_exporter": "python",
   "pygments_lexer": "ipython3",
   "version": "3.7.3"
  }
 },
 "nbformat": 4,
 "nbformat_minor": 4
}
